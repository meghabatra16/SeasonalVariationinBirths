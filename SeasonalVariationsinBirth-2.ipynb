{
 "cells": [
  {
   "cell_type": "code",
   "execution_count": 2,
   "id": "ae8abe1d",
   "metadata": {},
   "outputs": [],
   "source": [
    "#import libraries\n",
    "import pandas as pd \n",
    "import numpy as np\n",
    "import matplotlib as plt\n",
    "import seaborn as sns\n",
    "%matplotlib inline"
   ]
  },
  {
   "cell_type": "code",
   "execution_count": 3,
   "id": "e7c7e8c3",
   "metadata": {},
   "outputs": [],
   "source": [
    "#load dataset\n",
    "birth = pd.read_csv(\"/Users/meghabatra/Downloads/BirthMonthsData.csv\")\n"
   ]
  },
  {
   "cell_type": "code",
   "execution_count": 4,
   "id": "25f67938",
   "metadata": {},
   "outputs": [
    {
     "data": {
      "text/plain": [
       "(53409, 7)"
      ]
     },
     "execution_count": 4,
     "metadata": {},
     "output_type": "execute_result"
    }
   ],
   "source": [
    "#Display the shape of the Dataset\n",
    "birth.shape"
   ]
  },
  {
   "cell_type": "markdown",
   "id": "007037c5",
   "metadata": {},
   "source": [
    "The data set consits of 7 columns and 53409 rows"
   ]
  },
  {
   "cell_type": "code",
   "execution_count": 5,
   "id": "2ceddba0",
   "metadata": {},
   "outputs": [
    {
     "data": {
      "text/html": [
       "<div>\n",
       "<style scoped>\n",
       "    .dataframe tbody tr th:only-of-type {\n",
       "        vertical-align: middle;\n",
       "    }\n",
       "\n",
       "    .dataframe tbody tr th {\n",
       "        vertical-align: top;\n",
       "    }\n",
       "\n",
       "    .dataframe thead th {\n",
       "        text-align: right;\n",
       "    }\n",
       "</style>\n",
       "<table border=\"1\" class=\"dataframe\">\n",
       "  <thead>\n",
       "    <tr style=\"text-align: right;\">\n",
       "      <th></th>\n",
       "      <th>Country or Area</th>\n",
       "      <th>Year</th>\n",
       "      <th>Area</th>\n",
       "      <th>Month</th>\n",
       "      <th>Record Type</th>\n",
       "      <th>Reliability</th>\n",
       "      <th>Number_of_Births</th>\n",
       "    </tr>\n",
       "  </thead>\n",
       "  <tbody>\n",
       "    <tr>\n",
       "      <th>count</th>\n",
       "      <td>53409</td>\n",
       "      <td>53409.000000</td>\n",
       "      <td>53409</td>\n",
       "      <td>53409</td>\n",
       "      <td>53409</td>\n",
       "      <td>53409</td>\n",
       "      <td>5.340900e+04</td>\n",
       "    </tr>\n",
       "    <tr>\n",
       "      <th>unique</th>\n",
       "      <td>153</td>\n",
       "      <td>NaN</td>\n",
       "      <td>1</td>\n",
       "      <td>18</td>\n",
       "      <td>3</td>\n",
       "      <td>3</td>\n",
       "      <td>NaN</td>\n",
       "    </tr>\n",
       "    <tr>\n",
       "      <th>top</th>\n",
       "      <td>Republic of Korea</td>\n",
       "      <td>NaN</td>\n",
       "      <td>Total</td>\n",
       "      <td>January</td>\n",
       "      <td>Data tabulated by year of occurrence</td>\n",
       "      <td>Final figure, complete</td>\n",
       "      <td>NaN</td>\n",
       "    </tr>\n",
       "    <tr>\n",
       "      <th>freq</th>\n",
       "      <td>732</td>\n",
       "      <td>NaN</td>\n",
       "      <td>53409</td>\n",
       "      <td>4072</td>\n",
       "      <td>46129</td>\n",
       "      <td>50837</td>\n",
       "      <td>NaN</td>\n",
       "    </tr>\n",
       "    <tr>\n",
       "      <th>mean</th>\n",
       "      <td>NaN</td>\n",
       "      <td>1996.884982</td>\n",
       "      <td>NaN</td>\n",
       "      <td>NaN</td>\n",
       "      <td>NaN</td>\n",
       "      <td>NaN</td>\n",
       "      <td>3.889705e+04</td>\n",
       "    </tr>\n",
       "    <tr>\n",
       "      <th>std</th>\n",
       "      <td>NaN</td>\n",
       "      <td>14.153271</td>\n",
       "      <td>NaN</td>\n",
       "      <td>NaN</td>\n",
       "      <td>NaN</td>\n",
       "      <td>NaN</td>\n",
       "      <td>1.768072e+05</td>\n",
       "    </tr>\n",
       "    <tr>\n",
       "      <th>min</th>\n",
       "      <td>NaN</td>\n",
       "      <td>1967.000000</td>\n",
       "      <td>NaN</td>\n",
       "      <td>NaN</td>\n",
       "      <td>NaN</td>\n",
       "      <td>NaN</td>\n",
       "      <td>0.000000e+00</td>\n",
       "    </tr>\n",
       "    <tr>\n",
       "      <th>25%</th>\n",
       "      <td>NaN</td>\n",
       "      <td>1985.000000</td>\n",
       "      <td>NaN</td>\n",
       "      <td>NaN</td>\n",
       "      <td>NaN</td>\n",
       "      <td>NaN</td>\n",
       "      <td>4.970000e+02</td>\n",
       "    </tr>\n",
       "    <tr>\n",
       "      <th>50%</th>\n",
       "      <td>NaN</td>\n",
       "      <td>1998.000000</td>\n",
       "      <td>NaN</td>\n",
       "      <td>NaN</td>\n",
       "      <td>NaN</td>\n",
       "      <td>NaN</td>\n",
       "      <td>5.244000e+03</td>\n",
       "    </tr>\n",
       "    <tr>\n",
       "      <th>75%</th>\n",
       "      <td>NaN</td>\n",
       "      <td>2009.000000</td>\n",
       "      <td>NaN</td>\n",
       "      <td>NaN</td>\n",
       "      <td>NaN</td>\n",
       "      <td>NaN</td>\n",
       "      <td>2.092300e+04</td>\n",
       "    </tr>\n",
       "    <tr>\n",
       "      <th>max</th>\n",
       "      <td>NaN</td>\n",
       "      <td>2021.000000</td>\n",
       "      <td>NaN</td>\n",
       "      <td>NaN</td>\n",
       "      <td>NaN</td>\n",
       "      <td>NaN</td>\n",
       "      <td>4.265555e+06</td>\n",
       "    </tr>\n",
       "  </tbody>\n",
       "</table>\n",
       "</div>"
      ],
      "text/plain": [
       "          Country or Area          Year   Area    Month  \\\n",
       "count               53409  53409.000000  53409    53409   \n",
       "unique                153           NaN      1       18   \n",
       "top     Republic of Korea           NaN  Total  January   \n",
       "freq                  732           NaN  53409     4072   \n",
       "mean                  NaN   1996.884982    NaN      NaN   \n",
       "std                   NaN     14.153271    NaN      NaN   \n",
       "min                   NaN   1967.000000    NaN      NaN   \n",
       "25%                   NaN   1985.000000    NaN      NaN   \n",
       "50%                   NaN   1998.000000    NaN      NaN   \n",
       "75%                   NaN   2009.000000    NaN      NaN   \n",
       "max                   NaN   2021.000000    NaN      NaN   \n",
       "\n",
       "                                 Record Type             Reliability  \\\n",
       "count                                  53409                   53409   \n",
       "unique                                     3                       3   \n",
       "top     Data tabulated by year of occurrence  Final figure, complete   \n",
       "freq                                   46129                   50837   \n",
       "mean                                     NaN                     NaN   \n",
       "std                                      NaN                     NaN   \n",
       "min                                      NaN                     NaN   \n",
       "25%                                      NaN                     NaN   \n",
       "50%                                      NaN                     NaN   \n",
       "75%                                      NaN                     NaN   \n",
       "max                                      NaN                     NaN   \n",
       "\n",
       "        Number_of_Births  \n",
       "count       5.340900e+04  \n",
       "unique               NaN  \n",
       "top                  NaN  \n",
       "freq                 NaN  \n",
       "mean        3.889705e+04  \n",
       "std         1.768072e+05  \n",
       "min         0.000000e+00  \n",
       "25%         4.970000e+02  \n",
       "50%         5.244000e+03  \n",
       "75%         2.092300e+04  \n",
       "max         4.265555e+06  "
      ]
     },
     "execution_count": 5,
     "metadata": {},
     "output_type": "execute_result"
    }
   ],
   "source": [
    "#General descriptive Statistics\n",
    "birth.describe(include = 'all')"
   ]
  },
  {
   "cell_type": "markdown",
   "id": "88cd2364",
   "metadata": {},
   "source": [
    "The data set starts in 1967 and ends in 2021. There are 153 unique countrys or areas, only 1 unique area, 18?! unique months, 3 unique record types and 3 unique reliability. The minimum number of birth is 0, the maximum is 4265555 the mean is 38897.05 and the median is 5244."
   ]
  },
  {
   "cell_type": "code",
   "execution_count": 6,
   "id": "aeaf71e6",
   "metadata": {},
   "outputs": [
    {
     "name": "stdout",
     "output_type": "stream",
     "text": [
      "<class 'pandas.core.frame.DataFrame'>\n",
      "RangeIndex: 53409 entries, 0 to 53408\n",
      "Data columns (total 7 columns):\n",
      " #   Column            Non-Null Count  Dtype  \n",
      "---  ------            --------------  -----  \n",
      " 0   Country or Area   53409 non-null  object \n",
      " 1   Year              53409 non-null  int64  \n",
      " 2   Area              53409 non-null  object \n",
      " 3   Month             53409 non-null  object \n",
      " 4   Record Type       53409 non-null  object \n",
      " 5   Reliability       53409 non-null  object \n",
      " 6   Number_of_Births  53409 non-null  float64\n",
      "dtypes: float64(1), int64(1), object(5)\n",
      "memory usage: 2.9+ MB\n"
     ]
    }
   ],
   "source": [
    "#concise summary of the dataset\n",
    "birth.info()"
   ]
  },
  {
   "cell_type": "markdown",
   "id": "b305bfa9",
   "metadata": {},
   "source": [
    "The data set has 53409 rows and there are no NULL entries. The column Year is an integer and the column Number_of_Birth is a float, the rest of the columns are strings."
   ]
  },
  {
   "cell_type": "code",
   "execution_count": 7,
   "id": "dcd0b8a8",
   "metadata": {},
   "outputs": [
    {
     "data": {
      "text/html": [
       "<div>\n",
       "<style scoped>\n",
       "    .dataframe tbody tr th:only-of-type {\n",
       "        vertical-align: middle;\n",
       "    }\n",
       "\n",
       "    .dataframe tbody tr th {\n",
       "        vertical-align: top;\n",
       "    }\n",
       "\n",
       "    .dataframe thead th {\n",
       "        text-align: right;\n",
       "    }\n",
       "</style>\n",
       "<table border=\"1\" class=\"dataframe\">\n",
       "  <thead>\n",
       "    <tr style=\"text-align: right;\">\n",
       "      <th></th>\n",
       "      <th>Country or Area</th>\n",
       "      <th>Year</th>\n",
       "      <th>Area</th>\n",
       "      <th>Month</th>\n",
       "      <th>Record Type</th>\n",
       "      <th>Reliability</th>\n",
       "      <th>Number_of_Births</th>\n",
       "    </tr>\n",
       "  </thead>\n",
       "  <tbody>\n",
       "    <tr>\n",
       "      <th>0</th>\n",
       "      <td>Åland Islands</td>\n",
       "      <td>2019</td>\n",
       "      <td>Total</td>\n",
       "      <td>Total</td>\n",
       "      <td>Data tabulated by year of occurrence</td>\n",
       "      <td>Final figure, complete</td>\n",
       "      <td>267.0</td>\n",
       "    </tr>\n",
       "    <tr>\n",
       "      <th>1</th>\n",
       "      <td>Åland Islands</td>\n",
       "      <td>2019</td>\n",
       "      <td>Total</td>\n",
       "      <td>January</td>\n",
       "      <td>Data tabulated by year of occurrence</td>\n",
       "      <td>Final figure, complete</td>\n",
       "      <td>28.0</td>\n",
       "    </tr>\n",
       "    <tr>\n",
       "      <th>2</th>\n",
       "      <td>Åland Islands</td>\n",
       "      <td>2019</td>\n",
       "      <td>Total</td>\n",
       "      <td>February</td>\n",
       "      <td>Data tabulated by year of occurrence</td>\n",
       "      <td>Final figure, complete</td>\n",
       "      <td>24.0</td>\n",
       "    </tr>\n",
       "    <tr>\n",
       "      <th>3</th>\n",
       "      <td>Åland Islands</td>\n",
       "      <td>2019</td>\n",
       "      <td>Total</td>\n",
       "      <td>March</td>\n",
       "      <td>Data tabulated by year of occurrence</td>\n",
       "      <td>Final figure, complete</td>\n",
       "      <td>26.0</td>\n",
       "    </tr>\n",
       "    <tr>\n",
       "      <th>4</th>\n",
       "      <td>Åland Islands</td>\n",
       "      <td>2019</td>\n",
       "      <td>Total</td>\n",
       "      <td>April</td>\n",
       "      <td>Data tabulated by year of occurrence</td>\n",
       "      <td>Final figure, complete</td>\n",
       "      <td>16.0</td>\n",
       "    </tr>\n",
       "  </tbody>\n",
       "</table>\n",
       "</div>"
      ],
      "text/plain": [
       "  Country or Area  Year   Area     Month  \\\n",
       "0   Åland Islands  2019  Total     Total   \n",
       "1   Åland Islands  2019  Total   January   \n",
       "2   Åland Islands  2019  Total  February   \n",
       "3   Åland Islands  2019  Total     March   \n",
       "4   Åland Islands  2019  Total     April   \n",
       "\n",
       "                            Record Type             Reliability  \\\n",
       "0  Data tabulated by year of occurrence  Final figure, complete   \n",
       "1  Data tabulated by year of occurrence  Final figure, complete   \n",
       "2  Data tabulated by year of occurrence  Final figure, complete   \n",
       "3  Data tabulated by year of occurrence  Final figure, complete   \n",
       "4  Data tabulated by year of occurrence  Final figure, complete   \n",
       "\n",
       "   Number_of_Births  \n",
       "0             267.0  \n",
       "1              28.0  \n",
       "2              24.0  \n",
       "3              26.0  \n",
       "4              16.0  "
      ]
     },
     "execution_count": 7,
     "metadata": {},
     "output_type": "execute_result"
    }
   ],
   "source": [
    "birth.head()"
   ]
  },
  {
   "cell_type": "markdown",
   "id": "802409b3",
   "metadata": {},
   "source": [
    "The data set includes the columns Country or Area, Year, Area, Month, Record Type, Reliability and Number_of_Births"
   ]
  },
  {
   "cell_type": "code",
   "execution_count": 8,
   "id": "7de9cdde",
   "metadata": {},
   "outputs": [
    {
     "data": {
      "text/plain": [
       "Country or Area     0\n",
       "Year                0\n",
       "Area                0\n",
       "Month               0\n",
       "Record Type         0\n",
       "Reliability         0\n",
       "Number_of_Births    0\n",
       "dtype: int64"
      ]
     },
     "execution_count": 8,
     "metadata": {},
     "output_type": "execute_result"
    }
   ],
   "source": [
    "#Check for null values\n",
    "birth.isnull().sum()"
   ]
  },
  {
   "cell_type": "code",
   "execution_count": 9,
   "id": "b0120055",
   "metadata": {},
   "outputs": [
    {
     "data": {
      "text/plain": [
       "array(['Åland Islands', 'Albania', 'Algeria', 'American Samoa', 'Andorra',\n",
       "       'Anguilla', 'Antigua and Barbuda', 'Argentina', 'Armenia', 'Aruba',\n",
       "       'Australia', 'Austria', 'Azerbaijan', 'Bahamas', 'Bahrain',\n",
       "       'Barbados', 'Belarus', 'Belgium', 'Bermuda',\n",
       "       'Bosnia and Herzegovina', 'Botswana', 'Brazil',\n",
       "       'British Virgin Islands', 'Brunei Darussalam', 'Bulgaria',\n",
       "       'Cabo Verde', 'Canada', 'Cayman Islands', 'Chile',\n",
       "       'China, Hong Kong SAR', 'China, Macao SAR', 'Cook Islands',\n",
       "       'Costa Rica', 'Croatia', 'Cuba', 'Curaçao', 'Cyprus', 'Czechia',\n",
       "       'Denmark', 'Egypt', 'El Salvador', 'Estonia',\n",
       "       'Falkland Islands (Malvinas)', 'Faroe Islands', 'Fiji', 'Finland',\n",
       "       'France', 'French Guiana', 'French Polynesia', 'Georgia',\n",
       "       'Germany', 'Ghana', 'Gibraltar', 'Greece', 'Greenland',\n",
       "       'Guadeloupe', 'Guam', 'Guatemala', 'Guernsey', 'Guyana', 'Hungary',\n",
       "       'Iceland', 'Iran (Islamic Republic of)', 'Ireland', 'Isle of Man',\n",
       "       'Israel', 'Italy', 'Jamaica', 'Japan', 'Jersey', 'Jordan',\n",
       "       'Kazakhstan', 'Kuwait', 'Kyrgyzstan', 'Latvia', 'Lebanon', 'Libya',\n",
       "       'Liechtenstein', 'Lithuania', 'Luxembourg', 'Malawi', 'Malaysia',\n",
       "       'Maldives', 'Mali', 'Malta', 'Martinique', 'Mauritius', 'Mayotte',\n",
       "       'Mexico', 'Mongolia', 'Montenegro', 'Montserrat', 'Morocco',\n",
       "       'Netherlands', 'New Caledonia', 'New Zealand', 'Niue',\n",
       "       'Norfolk Island', 'North Macedonia', 'Norway', 'Oman', 'Pakistan',\n",
       "       'Palau', 'Panama', 'Peru', 'Philippines', 'Poland', 'Portugal',\n",
       "       'Puerto Rico', 'Qatar', 'Republic of Korea', 'Republic of Moldova',\n",
       "       'Reunion', 'Romania', 'Russian Federation',\n",
       "       'Saint Helena ex. dep.', 'Saint Helena: Ascension',\n",
       "       'Saint Kitts and Nevis', 'Saint Lucia',\n",
       "       'Saint Pierre and Miquelon', 'Saint Vincent and the Grenadines',\n",
       "       'Saint-Martin (French part)', 'Samoa', 'San Marino',\n",
       "       'Sao Tome and Principe', 'Serbia', 'Seychelles', 'Singapore',\n",
       "       'Slovakia', 'Slovenia', 'South Africa', 'Spain', 'Sri Lanka',\n",
       "       'State of Palestine', 'Suriname', 'Sweden', 'Switzerland',\n",
       "       'Tajikistan', 'Thailand', 'Tonga', 'Trinidad and Tobago',\n",
       "       'Tunisia', 'Turkey', 'Turks and Caicos Islands', 'Ukraine',\n",
       "       'United Arab Emirates',\n",
       "       'United Kingdom of Great Britain and Northern Ireland',\n",
       "       'United States of America', 'United States Virgin Islands',\n",
       "       'Uruguay', 'Uzbekistan', 'Venezuela (Bolivarian Republic of)',\n",
       "       'Wallis and Futuna Islands'], dtype=object)"
      ]
     },
     "execution_count": 9,
     "metadata": {},
     "output_type": "execute_result"
    }
   ],
   "source": [
    "#display unique country or area\n",
    "birth['Country or Area'].unique()"
   ]
  },
  {
   "cell_type": "code",
   "execution_count": 10,
   "id": "b495dba1",
   "metadata": {},
   "outputs": [
    {
     "data": {
      "text/plain": [
       "array([2019, 2018, 2017, 2016, 2015, 2014, 2013, 2012, 2008, 2007, 2006,\n",
       "       2005, 2004, 2003, 2002, 2001, 2000, 1999, 1998, 1997, 1996, 1995,\n",
       "       1994, 1993, 1992, 1991, 1990, 1989, 1988, 1987, 1986, 1985, 1984,\n",
       "       1983, 1982, 1981, 2010, 1980, 1979, 1978, 2020, 2011, 2009, 1976,\n",
       "       1973, 1971, 1975, 1974, 1972, 1977, 1970, 1969, 2021, 1968, 1967])"
      ]
     },
     "execution_count": 10,
     "metadata": {},
     "output_type": "execute_result"
    }
   ],
   "source": [
    "#display unique year \n",
    "birth['Year'].unique()"
   ]
  },
  {
   "cell_type": "code",
   "execution_count": 11,
   "id": "45b457d7",
   "metadata": {},
   "outputs": [
    {
     "data": {
      "text/plain": [
       "array(['Total', 'January', 'February', 'March', 'April', 'May', 'June',\n",
       "       'July', 'August', 'September', 'October', 'November', 'December',\n",
       "       'Unknown', 'January - March', 'April - June', 'July - September',\n",
       "       'October - December'], dtype=object)"
      ]
     },
     "execution_count": 11,
     "metadata": {},
     "output_type": "execute_result"
    }
   ],
   "source": [
    "#display unique month\n",
    "birth['Month'].unique()"
   ]
  },
  {
   "cell_type": "code",
   "execution_count": 12,
   "id": "03ee7810",
   "metadata": {},
   "outputs": [
    {
     "data": {
      "text/plain": [
       "array(['Data tabulated by year of occurrence',\n",
       "       'Data tabulated by year of registration',\n",
       "       'Vital statistics from census'], dtype=object)"
      ]
     },
     "execution_count": 12,
     "metadata": {},
     "output_type": "execute_result"
    }
   ],
   "source": [
    "#display unique Record Type\n",
    "birth['Record Type'].unique()"
   ]
  },
  {
   "cell_type": "code",
   "execution_count": 13,
   "id": "e546d0a6",
   "metadata": {},
   "outputs": [
    {
     "data": {
      "text/plain": [
       "array(['Final figure, complete', 'Provisional figure', 'Other estimate'],\n",
       "      dtype=object)"
      ]
     },
     "execution_count": 13,
     "metadata": {},
     "output_type": "execute_result"
    }
   ],
   "source": [
    "#display unique Reliability\n",
    "birth['Reliability'].unique()"
   ]
  },
  {
   "cell_type": "code",
   "execution_count": 14,
   "id": "4cff7625",
   "metadata": {},
   "outputs": [
    {
     "data": {
      "text/html": [
       "<div>\n",
       "<style scoped>\n",
       "    .dataframe tbody tr th:only-of-type {\n",
       "        vertical-align: middle;\n",
       "    }\n",
       "\n",
       "    .dataframe tbody tr th {\n",
       "        vertical-align: top;\n",
       "    }\n",
       "\n",
       "    .dataframe thead th {\n",
       "        text-align: right;\n",
       "    }\n",
       "</style>\n",
       "<table border=\"1\" class=\"dataframe\">\n",
       "  <thead>\n",
       "    <tr style=\"text-align: right;\">\n",
       "      <th></th>\n",
       "      <th>Year</th>\n",
       "      <th>Number_of_Births</th>\n",
       "    </tr>\n",
       "  </thead>\n",
       "  <tbody>\n",
       "    <tr>\n",
       "      <th>0</th>\n",
       "      <td>1967</td>\n",
       "      <td>7.142780e+05</td>\n",
       "    </tr>\n",
       "    <tr>\n",
       "      <th>1</th>\n",
       "      <td>1968</td>\n",
       "      <td>7.076360e+05</td>\n",
       "    </tr>\n",
       "    <tr>\n",
       "      <th>2</th>\n",
       "      <td>1969</td>\n",
       "      <td>1.059058e+07</td>\n",
       "    </tr>\n",
       "    <tr>\n",
       "      <th>3</th>\n",
       "      <td>1970</td>\n",
       "      <td>1.488850e+07</td>\n",
       "    </tr>\n",
       "    <tr>\n",
       "      <th>4</th>\n",
       "      <td>1971</td>\n",
       "      <td>1.800115e+07</td>\n",
       "    </tr>\n",
       "    <tr>\n",
       "      <th>5</th>\n",
       "      <td>1972</td>\n",
       "      <td>1.987243e+07</td>\n",
       "    </tr>\n",
       "    <tr>\n",
       "      <th>6</th>\n",
       "      <td>1973</td>\n",
       "      <td>2.941405e+07</td>\n",
       "    </tr>\n",
       "    <tr>\n",
       "      <th>7</th>\n",
       "      <td>1974</td>\n",
       "      <td>3.364105e+07</td>\n",
       "    </tr>\n",
       "    <tr>\n",
       "      <th>8</th>\n",
       "      <td>1975</td>\n",
       "      <td>3.153059e+07</td>\n",
       "    </tr>\n",
       "    <tr>\n",
       "      <th>9</th>\n",
       "      <td>1976</td>\n",
       "      <td>2.975218e+07</td>\n",
       "    </tr>\n",
       "    <tr>\n",
       "      <th>10</th>\n",
       "      <td>1977</td>\n",
       "      <td>2.633506e+07</td>\n",
       "    </tr>\n",
       "    <tr>\n",
       "      <th>11</th>\n",
       "      <td>1978</td>\n",
       "      <td>4.062025e+07</td>\n",
       "    </tr>\n",
       "    <tr>\n",
       "      <th>12</th>\n",
       "      <td>1979</td>\n",
       "      <td>4.164991e+07</td>\n",
       "    </tr>\n",
       "    <tr>\n",
       "      <th>13</th>\n",
       "      <td>1980</td>\n",
       "      <td>3.566287e+07</td>\n",
       "    </tr>\n",
       "    <tr>\n",
       "      <th>14</th>\n",
       "      <td>1981</td>\n",
       "      <td>3.596452e+07</td>\n",
       "    </tr>\n",
       "    <tr>\n",
       "      <th>15</th>\n",
       "      <td>1982</td>\n",
       "      <td>3.494210e+07</td>\n",
       "    </tr>\n",
       "    <tr>\n",
       "      <th>16</th>\n",
       "      <td>1983</td>\n",
       "      <td>3.332421e+07</td>\n",
       "    </tr>\n",
       "    <tr>\n",
       "      <th>17</th>\n",
       "      <td>1984</td>\n",
       "      <td>3.898922e+07</td>\n",
       "    </tr>\n",
       "    <tr>\n",
       "      <th>18</th>\n",
       "      <td>1985</td>\n",
       "      <td>4.223600e+07</td>\n",
       "    </tr>\n",
       "    <tr>\n",
       "      <th>19</th>\n",
       "      <td>1986</td>\n",
       "      <td>3.924764e+07</td>\n",
       "    </tr>\n",
       "    <tr>\n",
       "      <th>20</th>\n",
       "      <td>1987</td>\n",
       "      <td>3.928296e+07</td>\n",
       "    </tr>\n",
       "    <tr>\n",
       "      <th>21</th>\n",
       "      <td>1988</td>\n",
       "      <td>4.021602e+07</td>\n",
       "    </tr>\n",
       "    <tr>\n",
       "      <th>22</th>\n",
       "      <td>1989</td>\n",
       "      <td>3.933610e+07</td>\n",
       "    </tr>\n",
       "    <tr>\n",
       "      <th>23</th>\n",
       "      <td>1990</td>\n",
       "      <td>4.152616e+07</td>\n",
       "    </tr>\n",
       "    <tr>\n",
       "      <th>24</th>\n",
       "      <td>1991</td>\n",
       "      <td>4.464485e+07</td>\n",
       "    </tr>\n",
       "    <tr>\n",
       "      <th>25</th>\n",
       "      <td>1992</td>\n",
       "      <td>4.802412e+07</td>\n",
       "    </tr>\n",
       "    <tr>\n",
       "      <th>26</th>\n",
       "      <td>1993</td>\n",
       "      <td>4.584578e+07</td>\n",
       "    </tr>\n",
       "    <tr>\n",
       "      <th>27</th>\n",
       "      <td>1994</td>\n",
       "      <td>4.755536e+07</td>\n",
       "    </tr>\n",
       "    <tr>\n",
       "      <th>28</th>\n",
       "      <td>1995</td>\n",
       "      <td>4.019217e+07</td>\n",
       "    </tr>\n",
       "    <tr>\n",
       "      <th>29</th>\n",
       "      <td>1996</td>\n",
       "      <td>3.651954e+07</td>\n",
       "    </tr>\n",
       "    <tr>\n",
       "      <th>30</th>\n",
       "      <td>1997</td>\n",
       "      <td>3.906142e+07</td>\n",
       "    </tr>\n",
       "    <tr>\n",
       "      <th>31</th>\n",
       "      <td>1998</td>\n",
       "      <td>3.616679e+07</td>\n",
       "    </tr>\n",
       "    <tr>\n",
       "      <th>32</th>\n",
       "      <td>1999</td>\n",
       "      <td>4.520822e+07</td>\n",
       "    </tr>\n",
       "    <tr>\n",
       "      <th>33</th>\n",
       "      <td>2000</td>\n",
       "      <td>3.964094e+07</td>\n",
       "    </tr>\n",
       "    <tr>\n",
       "      <th>34</th>\n",
       "      <td>2001</td>\n",
       "      <td>4.531164e+07</td>\n",
       "    </tr>\n",
       "    <tr>\n",
       "      <th>35</th>\n",
       "      <td>2002</td>\n",
       "      <td>3.875412e+07</td>\n",
       "    </tr>\n",
       "    <tr>\n",
       "      <th>36</th>\n",
       "      <td>2003</td>\n",
       "      <td>4.690636e+07</td>\n",
       "    </tr>\n",
       "    <tr>\n",
       "      <th>37</th>\n",
       "      <td>2004</td>\n",
       "      <td>4.510183e+07</td>\n",
       "    </tr>\n",
       "    <tr>\n",
       "      <th>38</th>\n",
       "      <td>2005</td>\n",
       "      <td>4.544026e+07</td>\n",
       "    </tr>\n",
       "    <tr>\n",
       "      <th>39</th>\n",
       "      <td>2006</td>\n",
       "      <td>4.392223e+07</td>\n",
       "    </tr>\n",
       "    <tr>\n",
       "      <th>40</th>\n",
       "      <td>2007</td>\n",
       "      <td>4.337275e+07</td>\n",
       "    </tr>\n",
       "    <tr>\n",
       "      <th>41</th>\n",
       "      <td>2008</td>\n",
       "      <td>4.129037e+07</td>\n",
       "    </tr>\n",
       "    <tr>\n",
       "      <th>42</th>\n",
       "      <td>2009</td>\n",
       "      <td>4.485127e+07</td>\n",
       "    </tr>\n",
       "    <tr>\n",
       "      <th>43</th>\n",
       "      <td>2010</td>\n",
       "      <td>3.704227e+07</td>\n",
       "    </tr>\n",
       "    <tr>\n",
       "      <th>44</th>\n",
       "      <td>2011</td>\n",
       "      <td>4.936974e+07</td>\n",
       "    </tr>\n",
       "    <tr>\n",
       "      <th>45</th>\n",
       "      <td>2012</td>\n",
       "      <td>4.868882e+07</td>\n",
       "    </tr>\n",
       "    <tr>\n",
       "      <th>46</th>\n",
       "      <td>2013</td>\n",
       "      <td>5.024366e+07</td>\n",
       "    </tr>\n",
       "    <tr>\n",
       "      <th>47</th>\n",
       "      <td>2014</td>\n",
       "      <td>5.326461e+07</td>\n",
       "    </tr>\n",
       "    <tr>\n",
       "      <th>48</th>\n",
       "      <td>2015</td>\n",
       "      <td>6.176642e+07</td>\n",
       "    </tr>\n",
       "    <tr>\n",
       "      <th>49</th>\n",
       "      <td>2016</td>\n",
       "      <td>5.977687e+07</td>\n",
       "    </tr>\n",
       "    <tr>\n",
       "      <th>50</th>\n",
       "      <td>2017</td>\n",
       "      <td>5.849471e+07</td>\n",
       "    </tr>\n",
       "    <tr>\n",
       "      <th>51</th>\n",
       "      <td>2018</td>\n",
       "      <td>6.184167e+07</td>\n",
       "    </tr>\n",
       "    <tr>\n",
       "      <th>52</th>\n",
       "      <td>2019</td>\n",
       "      <td>4.272734e+07</td>\n",
       "    </tr>\n",
       "    <tr>\n",
       "      <th>53</th>\n",
       "      <td>2020</td>\n",
       "      <td>1.583556e+07</td>\n",
       "    </tr>\n",
       "    <tr>\n",
       "      <th>54</th>\n",
       "      <td>2021</td>\n",
       "      <td>2.145591e+06</td>\n",
       "    </tr>\n",
       "  </tbody>\n",
       "</table>\n",
       "</div>"
      ],
      "text/plain": [
       "    Year  Number_of_Births\n",
       "0   1967      7.142780e+05\n",
       "1   1968      7.076360e+05\n",
       "2   1969      1.059058e+07\n",
       "3   1970      1.488850e+07\n",
       "4   1971      1.800115e+07\n",
       "5   1972      1.987243e+07\n",
       "6   1973      2.941405e+07\n",
       "7   1974      3.364105e+07\n",
       "8   1975      3.153059e+07\n",
       "9   1976      2.975218e+07\n",
       "10  1977      2.633506e+07\n",
       "11  1978      4.062025e+07\n",
       "12  1979      4.164991e+07\n",
       "13  1980      3.566287e+07\n",
       "14  1981      3.596452e+07\n",
       "15  1982      3.494210e+07\n",
       "16  1983      3.332421e+07\n",
       "17  1984      3.898922e+07\n",
       "18  1985      4.223600e+07\n",
       "19  1986      3.924764e+07\n",
       "20  1987      3.928296e+07\n",
       "21  1988      4.021602e+07\n",
       "22  1989      3.933610e+07\n",
       "23  1990      4.152616e+07\n",
       "24  1991      4.464485e+07\n",
       "25  1992      4.802412e+07\n",
       "26  1993      4.584578e+07\n",
       "27  1994      4.755536e+07\n",
       "28  1995      4.019217e+07\n",
       "29  1996      3.651954e+07\n",
       "30  1997      3.906142e+07\n",
       "31  1998      3.616679e+07\n",
       "32  1999      4.520822e+07\n",
       "33  2000      3.964094e+07\n",
       "34  2001      4.531164e+07\n",
       "35  2002      3.875412e+07\n",
       "36  2003      4.690636e+07\n",
       "37  2004      4.510183e+07\n",
       "38  2005      4.544026e+07\n",
       "39  2006      4.392223e+07\n",
       "40  2007      4.337275e+07\n",
       "41  2008      4.129037e+07\n",
       "42  2009      4.485127e+07\n",
       "43  2010      3.704227e+07\n",
       "44  2011      4.936974e+07\n",
       "45  2012      4.868882e+07\n",
       "46  2013      5.024366e+07\n",
       "47  2014      5.326461e+07\n",
       "48  2015      6.176642e+07\n",
       "49  2016      5.977687e+07\n",
       "50  2017      5.849471e+07\n",
       "51  2018      6.184167e+07\n",
       "52  2019      4.272734e+07\n",
       "53  2020      1.583556e+07\n",
       "54  2021      2.145591e+06"
      ]
     },
     "execution_count": 14,
     "metadata": {},
     "output_type": "execute_result"
    }
   ],
   "source": [
    "#Display Total Number of Births for each year\n",
    "y = birth.groupby(\"Year\")\n",
    "Total_birth = y[\"Number_of_Births\"].sum().reset_index()\n",
    "Total_birth"
   ]
  },
  {
   "cell_type": "code",
   "execution_count": 15,
   "id": "a0b32b70",
   "metadata": {},
   "outputs": [
    {
     "data": {
      "image/png": "[encoded data removed]",
      "text/plain": [
       "<Figure size 1728x576 with 1 Axes>"
      ]
     },
     "metadata": {
      "needs_background": "light"
     },
     "output_type": "display_data"
    }
   ],
   "source": [
    "#Categorical plot Year V/s TotalBirths\n",
    "Total_birth.columns = [\"Year\", \"TotalBirths\"]\n",
    "ax = sns.catplot(x=\"Year\",\n",
    "                y=\"TotalBirths\",\n",
    "                kind=\"bar\", \n",
    "                data=Total_birth, height = 8,aspect = 3, legend = True).set(title='Number of births each year')\n"
   ]
  },
  {
   "cell_type": "markdown",
   "id": "54b497b6",
   "metadata": {},
   "source": [
    "The number of birth increase with a significant leap after 2010"
   ]
  },
  {
   "cell_type": "markdown",
   "id": "75182342",
   "metadata": {},
   "source": [
    "DATA CLEANING"
   ]
  },
  {
   "cell_type": "code",
   "execution_count": 16,
   "id": "22d3b36d",
   "metadata": {},
   "outputs": [
    {
     "data": {
      "text/plain": [
       "January               4072\n",
       "Total                 4072\n",
       "April                 4068\n",
       "March                 4062\n",
       "May                   4056\n",
       "February              4054\n",
       "July                  4051\n",
       "June                  4047\n",
       "October               4041\n",
       "September             4038\n",
       "August                4037\n",
       "November              4031\n",
       "December              4024\n",
       "Unknown                491\n",
       "January - March         72\n",
       "April - June            65\n",
       "October - December      64\n",
       "July - September        64\n",
       "Name: Month, dtype: int64"
      ]
     },
     "execution_count": 16,
     "metadata": {},
     "output_type": "execute_result"
    }
   ],
   "source": [
    "#counting the months\n",
    "birth[\"Month\"].value_counts()"
   ]
  },
  {
   "cell_type": "code",
   "execution_count": 21,
   "id": "a24f3df4",
   "metadata": {},
   "outputs": [
    {
     "data": {
      "text/plain": [
       "January      4072\n",
       "April        4068\n",
       "March        4062\n",
       "May          4056\n",
       "February     4054\n",
       "July         4051\n",
       "June         4047\n",
       "October      4041\n",
       "September    4038\n",
       "August       4037\n",
       "November     4031\n",
       "December     4024\n",
       "Name: Month, dtype: int64"
      ]
     },
     "execution_count": 21,
     "metadata": {},
     "output_type": "execute_result"
    }
   ],
   "source": [
    "#droping the extra month columns\n",
    "update_birth = birth\n",
    "update_birth = update_birth.drop(birth[birth[\"Month\"] == \"Total\"].index)\n",
    "update_birth = update_birth.drop(birth[birth[\"Month\"] == \"January - March\"].index)\n",
    "update_birth = update_birth.drop(birth[birth[\"Month\"] == \"April - June\"].index)\n",
    "update_birth = update_birth.drop(birth[birth[\"Month\"] == \"October - December\"].index) \n",
    "update_birth = update_birth.drop(birth[birth[\"Month\"] == \"July - September\"].index)\n",
    "update_birth = update_birth.drop(birth[birth[\"Month\"] == \"Unknown\"].index)\n",
    "update_birth[\"Month\"].value_counts()\n",
    "\n"
   ]
  },
  {
   "cell_type": "code",
   "execution_count": 25,
   "id": "7f7ade71",
   "metadata": {},
   "outputs": [
    {
     "data": {
      "text/html": [
       "<div>\n",
       "<style scoped>\n",
       "    .dataframe tbody tr th:only-of-type {\n",
       "        vertical-align: middle;\n",
       "    }\n",
       "\n",
       "    .dataframe tbody tr th {\n",
       "        vertical-align: top;\n",
       "    }\n",
       "\n",
       "    .dataframe thead th {\n",
       "        text-align: right;\n",
       "    }\n",
       "</style>\n",
       "<table border=\"1\" class=\"dataframe\">\n",
       "  <thead>\n",
       "    <tr style=\"text-align: right;\">\n",
       "      <th></th>\n",
       "      <th>Month</th>\n",
       "      <th>Number_of_Births</th>\n",
       "    </tr>\n",
       "  </thead>\n",
       "  <tbody>\n",
       "    <tr>\n",
       "      <th>0</th>\n",
       "      <td>April</td>\n",
       "      <td>8.275809e+07</td>\n",
       "    </tr>\n",
       "    <tr>\n",
       "      <th>1</th>\n",
       "      <td>August</td>\n",
       "      <td>9.066047e+07</td>\n",
       "    </tr>\n",
       "    <tr>\n",
       "      <th>2</th>\n",
       "      <td>December</td>\n",
       "      <td>8.459278e+07</td>\n",
       "    </tr>\n",
       "    <tr>\n",
       "      <th>3</th>\n",
       "      <td>February</td>\n",
       "      <td>8.053375e+07</td>\n",
       "    </tr>\n",
       "    <tr>\n",
       "      <th>4</th>\n",
       "      <td>January</td>\n",
       "      <td>9.074046e+07</td>\n",
       "    </tr>\n",
       "    <tr>\n",
       "      <th>5</th>\n",
       "      <td>July</td>\n",
       "      <td>8.995628e+07</td>\n",
       "    </tr>\n",
       "    <tr>\n",
       "      <th>6</th>\n",
       "      <td>June</td>\n",
       "      <td>8.456673e+07</td>\n",
       "    </tr>\n",
       "    <tr>\n",
       "      <th>7</th>\n",
       "      <td>March</td>\n",
       "      <td>8.614845e+07</td>\n",
       "    </tr>\n",
       "    <tr>\n",
       "      <th>8</th>\n",
       "      <td>May</td>\n",
       "      <td>8.542745e+07</td>\n",
       "    </tr>\n",
       "    <tr>\n",
       "      <th>9</th>\n",
       "      <td>November</td>\n",
       "      <td>8.442779e+07</td>\n",
       "    </tr>\n",
       "    <tr>\n",
       "      <th>10</th>\n",
       "      <td>October</td>\n",
       "      <td>8.938985e+07</td>\n",
       "    </tr>\n",
       "    <tr>\n",
       "      <th>11</th>\n",
       "      <td>September</td>\n",
       "      <td>9.102049e+07</td>\n",
       "    </tr>\n",
       "  </tbody>\n",
       "</table>\n",
       "</div>"
      ],
      "text/plain": [
       "        Month  Number_of_Births\n",
       "0       April      8.275809e+07\n",
       "1      August      9.066047e+07\n",
       "2    December      8.459278e+07\n",
       "3    February      8.053375e+07\n",
       "4     January      9.074046e+07\n",
       "5        July      8.995628e+07\n",
       "6        June      8.456673e+07\n",
       "7       March      8.614845e+07\n",
       "8         May      8.542745e+07\n",
       "9    November      8.442779e+07\n",
       "10    October      8.938985e+07\n",
       "11  September      9.102049e+07"
      ]
     },
     "execution_count": 25,
     "metadata": {},
     "output_type": "execute_result"
    }
   ],
   "source": [
    "#Display the total number of births each month\n",
    "z = update_birth.groupby(\"Month\")\n",
    "Total_birth_monthly = z[\"Number_of_Births\"].sum().reset_index()\n",
    "Total_birth_monthly"
   ]
  },
  {
   "cell_type": "code",
   "execution_count": 26,
   "id": "a0123b72",
   "metadata": {},
   "outputs": [
    {
     "data": {
      "image/png": "[encoded data removed]",
      "text/plain": [
       "<Figure size 1728x576 with 1 Axes>"
      ]
     },
     "metadata": {
      "needs_background": "light"
     },
     "output_type": "display_data"
    }
   ],
   "source": [
    "#Plot the total number of births each month\n",
    "ax = sns.catplot(x=\"Month\",\n",
    "                y=\"Number_of_Births\",\n",
    "                kind=\"bar\", \n",
    "                data=Total_birth_monthly, height = 8,aspect = 3, legend = True).set(title='Births each month')"
   ]
  },
  {
   "cell_type": "markdown",
   "id": "79c1109e",
   "metadata": {},
   "source": [
    "January has the Number of Birth"
   ]
  },
  {
   "cell_type": "code",
   "execution_count": 264,
   "id": "e19ee5ef",
   "metadata": {},
   "outputs": [
    {
     "data": {
      "text/html": [
       "<div>\n",
       "<style scoped>\n",
       "    .dataframe tbody tr th:only-of-type {\n",
       "        vertical-align: middle;\n",
       "    }\n",
       "\n",
       "    .dataframe tbody tr th {\n",
       "        vertical-align: top;\n",
       "    }\n",
       "\n",
       "    .dataframe thead th {\n",
       "        text-align: right;\n",
       "    }\n",
       "</style>\n",
       "<table border=\"1\" class=\"dataframe\">\n",
       "  <thead>\n",
       "    <tr style=\"text-align: right;\">\n",
       "      <th></th>\n",
       "      <th>Country or Area</th>\n",
       "      <th>Number_of_Births</th>\n",
       "    </tr>\n",
       "  </thead>\n",
       "  <tbody>\n",
       "    <tr>\n",
       "      <th>147</th>\n",
       "      <td>United States of America</td>\n",
       "      <td>180090670.0</td>\n",
       "    </tr>\n",
       "    <tr>\n",
       "      <th>38</th>\n",
       "      <td>Egypt</td>\n",
       "      <td>89740084.0</td>\n",
       "    </tr>\n",
       "    <tr>\n",
       "      <th>67</th>\n",
       "      <td>Japan</td>\n",
       "      <td>63472859.0</td>\n",
       "    </tr>\n",
       "    <tr>\n",
       "      <th>100</th>\n",
       "      <td>Pakistan</td>\n",
       "      <td>62310871.0</td>\n",
       "    </tr>\n",
       "    <tr>\n",
       "      <th>104</th>\n",
       "      <td>Philippines</td>\n",
       "      <td>44060963.0</td>\n",
       "    </tr>\n",
       "    <tr>\n",
       "      <th>113</th>\n",
       "      <td>Russian Federation</td>\n",
       "      <td>36172366.0</td>\n",
       "    </tr>\n",
       "    <tr>\n",
       "      <th>45</th>\n",
       "      <td>France</td>\n",
       "      <td>33959084.0</td>\n",
       "    </tr>\n",
       "    <tr>\n",
       "      <th>109</th>\n",
       "      <td>Republic of Korea</td>\n",
       "      <td>32560989.0</td>\n",
       "    </tr>\n",
       "    <tr>\n",
       "      <th>65</th>\n",
       "      <td>Italy</td>\n",
       "      <td>28638779.0</td>\n",
       "    </tr>\n",
       "    <tr>\n",
       "      <th>130</th>\n",
       "      <td>Spain</td>\n",
       "      <td>22935002.0</td>\n",
       "    </tr>\n",
       "  </tbody>\n",
       "</table>\n",
       "</div>"
      ],
      "text/plain": [
       "              Country or Area  Number_of_Births\n",
       "147  United States of America       180090670.0\n",
       "38                      Egypt        89740084.0\n",
       "67                      Japan        63472859.0\n",
       "100                  Pakistan        62310871.0\n",
       "104               Philippines        44060963.0\n",
       "113        Russian Federation        36172366.0\n",
       "45                     France        33959084.0\n",
       "109         Republic of Korea        32560989.0\n",
       "65                      Italy        28638779.0\n",
       "130                     Spain        22935002.0"
      ]
     },
     "execution_count": 264,
     "metadata": {},
     "output_type": "execute_result"
    }
   ],
   "source": [
    "#Display the top 10 countries with highest number of births \n",
    "a =update_birth.groupby(\"Country or Area\")\n",
    "a\n",
    "b = a[\"Number_of_Births\"].sum().reset_index()\n",
    "b\n",
    "sort1= b.sort_values(by = 'Number_of_Births', ascending = False)\n",
    "sort1\n",
    "top_ =sort1.head(10)\n",
    "top_"
   ]
  },
  {
   "cell_type": "markdown",
   "id": "39502c8e",
   "metadata": {},
   "source": [
    "United States of America has the highest number of births "
   ]
  },
  {
   "cell_type": "code",
   "execution_count": 265,
   "id": "744ad81d",
   "metadata": {},
   "outputs": [
    {
     "data": {
      "image/png": "[encoded data removed]",
      "text/plain": [
       "<Figure size 1728x576 with 1 Axes>"
      ]
     },
     "metadata": {
      "needs_background": "light"
     },
     "output_type": "display_data"
    }
   ],
   "source": [
    "#Plot the top 10 countries with maximum number of births\n",
    "ax = sns.catplot(x=\"Country or Area\",\n",
    "                y=\"Number_of_Births\",\n",
    "                kind=\"bar\", \n",
    "                data=top_, height = 8,aspect = 3, legend = True).set(title='Top 10 Countries by Maximum Births')"
   ]
  },
  {
   "cell_type": "code",
   "execution_count": 45,
   "id": "4ce47693",
   "metadata": {},
   "outputs": [
    {
     "data": {
      "text/plain": [
       "January - March       72\n",
       "April - June          65\n",
       "July - September      64\n",
       "October - December    64\n",
       "Name: Month, dtype: int64"
      ]
     },
     "execution_count": 45,
     "metadata": {},
     "output_type": "execute_result"
    }
   ],
   "source": [
    "#Quarterly distribution of records\n",
    "update_birth1 = birth\n",
    "update_birth1 = update_birth1.drop(birth[birth[\"Month\"] == \"Total\"].index)\n",
    "update_birth1 = update_birth1.drop(birth[birth[\"Month\"] == \"January\"].index)\n",
    "update_birth1 = update_birth1.drop(birth[birth[\"Month\"] == \"February\"].index)\n",
    "update_birth1 = update_birth1.drop(birth[birth[\"Month\"] == \"March\"].index) \n",
    "update_birth1 = update_birth1.drop(birth[birth[\"Month\"] == \"April\"].index)\n",
    "update_birth1 = update_birth1.drop(birth[birth[\"Month\"] == \"May\"].index)\n",
    "update_birth1 = update_birth1.drop(birth[birth[\"Month\"] == \"June\"].index)\n",
    "update_birth1 = update_birth1.drop(birth[birth[\"Month\"] == \"July\"].index)\n",
    "update_birth1 = update_birth1.drop(birth[birth[\"Month\"] == \"August\"].index)\n",
    "update_birth1 = update_birth1.drop(birth[birth[\"Month\"] == \"September\"].index)\n",
    "update_birth1 = update_birth1.drop(birth[birth[\"Month\"] == \"October\"].index)\n",
    "update_birth1 = update_birth1.drop(birth[birth[\"Month\"] == \"November\"].index)\n",
    "update_birth1 = update_birth1.drop(birth[birth[\"Month\"] == \"December\"].index)\n",
    "update_birth1 = update_birth1.drop(birth[birth[\"Month\"] == \"Unknown\"].index)\n",
    "update_birth1[\"Month\"].value_counts()"
   ]
  },
  {
   "cell_type": "code",
   "execution_count": 33,
   "id": "67ae732e",
   "metadata": {},
   "outputs": [
    {
     "data": {
      "text/html": [
       "<div>\n",
       "<style scoped>\n",
       "    .dataframe tbody tr th:only-of-type {\n",
       "        vertical-align: middle;\n",
       "    }\n",
       "\n",
       "    .dataframe tbody tr th {\n",
       "        vertical-align: top;\n",
       "    }\n",
       "\n",
       "    .dataframe thead th {\n",
       "        text-align: right;\n",
       "    }\n",
       "</style>\n",
       "<table border=\"1\" class=\"dataframe\">\n",
       "  <thead>\n",
       "    <tr style=\"text-align: right;\">\n",
       "      <th></th>\n",
       "      <th>Month</th>\n",
       "      <th>Number_of_Births</th>\n",
       "    </tr>\n",
       "  </thead>\n",
       "  <tbody>\n",
       "    <tr>\n",
       "      <th>1</th>\n",
       "      <td>January - March</td>\n",
       "      <td>1406257.0</td>\n",
       "    </tr>\n",
       "    <tr>\n",
       "      <th>0</th>\n",
       "      <td>April - June</td>\n",
       "      <td>1366205.0</td>\n",
       "    </tr>\n",
       "    <tr>\n",
       "      <th>2</th>\n",
       "      <td>July - September</td>\n",
       "      <td>1232431.0</td>\n",
       "    </tr>\n",
       "    <tr>\n",
       "      <th>3</th>\n",
       "      <td>October - December</td>\n",
       "      <td>1165227.0</td>\n",
       "    </tr>\n",
       "  </tbody>\n",
       "</table>\n",
       "</div>"
      ],
      "text/plain": [
       "                Month  Number_of_Births\n",
       "1     January - March         1406257.0\n",
       "0        April - June         1366205.0\n",
       "2    July - September         1232431.0\n",
       "3  October - December         1165227.0"
      ]
     },
     "execution_count": 33,
     "metadata": {},
     "output_type": "execute_result"
    }
   ],
   "source": [
    "#Display the number of births based on Quarters\n",
    "x = update_birth1.groupby(\"Month\")\n",
    "Total_birth_monthly1 = x[\"Number_of_Births\"].sum().reset_index()\n",
    "Total_birth_monthly1\n",
    "sort_value= Total_birth_monthly1.sort_values(by = 'Number_of_Births', ascending = False)\n",
    "sort_value =sort_value.head(10)\n",
    "sort_value"
   ]
  },
  {
   "cell_type": "code",
   "execution_count": 44,
   "id": "9d787799",
   "metadata": {},
   "outputs": [
    {
     "data": {
      "image/png": "[encoded data removed]",
      "text/plain": [
       "<Figure size 576x288 with 1 Axes>"
      ]
     },
     "metadata": {
      "needs_background": "light"
     },
     "output_type": "display_data"
    }
   ],
   "source": [
    "#Plot the number of births based on Quarters\n",
    "ax = sns.catplot(x=\"Month\",\n",
    "                y=\"Number_of_Births\",\n",
    "                kind=\"bar\", \n",
    "                data=sort_value, height = 4,aspect = 2, legend = True).set(title='Quarter wise distribution')"
   ]
  },
  {
   "cell_type": "markdown",
   "id": "7ac1e6ce",
   "metadata": {},
   "source": [
    "During the months of January - March(Quarter 1), there is maximum number of births "
   ]
  },
  {
   "cell_type": "code",
   "execution_count": 49,
   "id": "c4d12a60",
   "metadata": {},
   "outputs": [
    {
     "data": {
      "image/png": "[encoded data removed]",
      "text/plain": [
       "<Figure size 576x288 with 1 Axes>"
      ]
     },
     "metadata": {
      "needs_background": "light"
     },
     "output_type": "display_data"
    }
   ],
   "source": [
    "#Plot based on seasons\n",
    "Total_birth_monthly1['Month'] = Total_birth_monthly1['Month'].replace(['January - March','April - June',\"October - December\",\"July - September\"],['Spring','Summer','Winter','Fall/Autumn'])\n",
    "Total_birth_monthly1\n",
    "ax = sns.catplot(x=\"Month\",\n",
    "                y=\"Number_of_Births\",\n",
    "                kind=\"bar\", \n",
    "                data=Total_birth_monthly1, height = 4,aspect = 2, legend = True).set(title='Season wise distribution')\n"
   ]
  },
  {
   "cell_type": "markdown",
   "id": "3846a39f",
   "metadata": {},
   "source": [
    "During the Spring season there are maximum number of births "
   ]
  },
  {
   "cell_type": "code",
   "execution_count": 59,
   "id": "b404e21e",
   "metadata": {},
   "outputs": [
    {
     "data": {
      "text/plain": [
       "<AxesSubplot:ylabel='Number_of_Births'>"
      ]
     },
     "execution_count": 59,
     "metadata": {},
     "output_type": "execute_result"
    },
    {
     "data": {
      "image/png": "[encoded data removed]",
      "text/plain": [
       "<Figure size 360x360 with 1 Axes>"
      ]
     },
     "metadata": {},
     "output_type": "display_data"
    }
   ],
   "source": [
    "seasons = [\"Summer\", 'Spring', 'Fall/Autumn', \"Winter\"]\n",
    "Total_birth_monthly1.plot(y='Number_of_Births',kind = 'pie', figsize=(5, 5), labels = seasons,legend=False, autopct='%1.0f%%')"
   ]
  },
  {
   "cell_type": "markdown",
   "id": "241627d2",
   "metadata": {},
   "source": [
    "The number of births in each Quarter is closely related to each other"
   ]
  },
  {
   "cell_type": "code",
   "execution_count": 70,
   "id": "c58a8a6f",
   "metadata": {},
   "outputs": [
    {
     "data": {
      "text/html": [
       "<div>\n",
       "<style scoped>\n",
       "    .dataframe tbody tr th:only-of-type {\n",
       "        vertical-align: middle;\n",
       "    }\n",
       "\n",
       "    .dataframe tbody tr th {\n",
       "        vertical-align: top;\n",
       "    }\n",
       "\n",
       "    .dataframe thead th {\n",
       "        text-align: right;\n",
       "    }\n",
       "</style>\n",
       "<table border=\"1\" class=\"dataframe\">\n",
       "  <thead>\n",
       "    <tr style=\"text-align: right;\">\n",
       "      <th></th>\n",
       "      <th>index</th>\n",
       "      <th>Record Type</th>\n",
       "    </tr>\n",
       "  </thead>\n",
       "  <tbody>\n",
       "    <tr>\n",
       "      <th>0</th>\n",
       "      <td>Data tabulated by year of occurrence</td>\n",
       "      <td>42018</td>\n",
       "    </tr>\n",
       "    <tr>\n",
       "      <th>1</th>\n",
       "      <td>Data tabulated by year of registration</td>\n",
       "      <td>6551</td>\n",
       "    </tr>\n",
       "    <tr>\n",
       "      <th>2</th>\n",
       "      <td>Vital statistics from census</td>\n",
       "      <td>12</td>\n",
       "    </tr>\n",
       "  </tbody>\n",
       "</table>\n",
       "</div>"
      ],
      "text/plain": [
       "                                    index  Record Type\n",
       "0    Data tabulated by year of occurrence        42018\n",
       "1  Data tabulated by year of registration         6551\n",
       "2            Vital statistics from census           12"
      ]
     },
     "execution_count": 70,
     "metadata": {},
     "output_type": "execute_result"
    }
   ],
   "source": [
    "#Display Record Type distribution\n",
    "Records = update_birth[\"Record Type\"].value_counts().reset_index()\n",
    "Records"
   ]
  },
  {
   "cell_type": "code",
   "execution_count": 90,
   "id": "e694b7b3",
   "metadata": {},
   "outputs": [
    {
     "name": "stderr",
     "output_type": "stream",
     "text": [
      "/Users/meghabatra/opt/anaconda3/lib/python3.8/site-packages/matplotlib/backends/backend_agg.py:238: RuntimeWarning: Glyph 9 missing from current font.\n",
      "  font.set_text(s, 0.0, flags=flags)\n",
      "/Users/meghabatra/opt/anaconda3/lib/python3.8/site-packages/matplotlib/backends/backend_agg.py:201: RuntimeWarning: Glyph 9 missing from current font.\n",
      "  font.set_text(s, 0, flags=flags)\n"
     ]
    },
    {
     "data": {
      "image/png": "[encoded data removed]",
      "text/plain": [
       "<Figure size 360x360 with 1 Axes>"
      ]
     },
     "metadata": {},
     "output_type": "display_data"
    }
   ],
   "source": [
    "#Plot Pie plot for Record Type\n",
    "plot = Records.plot.pie(y='Record Type', figsize=(5, 5),\n",
    "                        labels= [\"Data tabulated by year of occurrence\",\"Data tabulated by year of registration\t\",\"Vital statistics from census\"], \n",
    "                                 legend=True, autopct='%1.0f%%')"
   ]
  },
  {
   "cell_type": "markdown",
   "id": "08a08a23",
   "metadata": {},
   "source": [
    "Reliability Distribution"
   ]
  },
  {
   "cell_type": "code",
   "execution_count": 79,
   "id": "4956a847",
   "metadata": {},
   "outputs": [
    {
     "data": {
      "text/html": [
       "<div>\n",
       "<style scoped>\n",
       "    .dataframe tbody tr th:only-of-type {\n",
       "        vertical-align: middle;\n",
       "    }\n",
       "\n",
       "    .dataframe tbody tr th {\n",
       "        vertical-align: top;\n",
       "    }\n",
       "\n",
       "    .dataframe thead th {\n",
       "        text-align: right;\n",
       "    }\n",
       "</style>\n",
       "<table border=\"1\" class=\"dataframe\">\n",
       "  <thead>\n",
       "    <tr style=\"text-align: right;\">\n",
       "      <th></th>\n",
       "      <th>index</th>\n",
       "      <th>Reliability</th>\n",
       "    </tr>\n",
       "  </thead>\n",
       "  <tbody>\n",
       "    <tr>\n",
       "      <th>0</th>\n",
       "      <td>Final figure, complete</td>\n",
       "      <td>46276</td>\n",
       "    </tr>\n",
       "    <tr>\n",
       "      <th>1</th>\n",
       "      <td>Provisional figure</td>\n",
       "      <td>1801</td>\n",
       "    </tr>\n",
       "    <tr>\n",
       "      <th>2</th>\n",
       "      <td>Other estimate</td>\n",
       "      <td>504</td>\n",
       "    </tr>\n",
       "  </tbody>\n",
       "</table>\n",
       "</div>"
      ],
      "text/plain": [
       "                    index  Reliability\n",
       "0  Final figure, complete        46276\n",
       "1      Provisional figure         1801\n",
       "2          Other estimate          504"
      ]
     },
     "execution_count": 79,
     "metadata": {},
     "output_type": "execute_result"
    }
   ],
   "source": [
    "Reliability_record = update_birth[\"Reliability\"].value_counts().reset_index()\n",
    "Reliability_record"
   ]
  },
  {
   "cell_type": "code",
   "execution_count": 80,
   "id": "e1131524",
   "metadata": {},
   "outputs": [
    {
     "data": {
      "image/png": "[encoded data removed]",
      "text/plain": [
       "<Figure size 360x360 with 1 Axes>"
      ]
     },
     "metadata": {},
     "output_type": "display_data"
    }
   ],
   "source": [
    "#Plot Reliability distribution\n",
    "Reliability_record.plot.pie(y='Reliability',\n",
    "                                   figsize=(5, 5),labels= [\"Final figure,complete\",\"Provisional figure\", 'Other estimate'], \n",
    "                                   legend=True, autopct='%1.0f%%')"
   ]
  },
  {
   "cell_type": "markdown",
   "id": "3ce085d3",
   "metadata": {},
   "source": [
    "Mont-wise Record Type\n"
   ]
  },
  {
   "cell_type": "code",
   "execution_count": 91,
   "id": "fb9d6b05",
   "metadata": {},
   "outputs": [
    {
     "name": "stderr",
     "output_type": "stream",
     "text": [
      "/Users/meghabatra/opt/anaconda3/lib/python3.8/site-packages/seaborn/_decorators.py:36: FutureWarning: Pass the following variable as a keyword arg: x. From version 0.12, the only valid positional argument will be `data`, and passing other arguments without an explicit keyword will result in an error or misinterpretation.\n",
      "  warnings.warn(\n"
     ]
    },
    {
     "data": {
      "text/plain": [
       "<AxesSubplot:xlabel='Month', ylabel='count'>"
      ]
     },
     "execution_count": 91,
     "metadata": {},
     "output_type": "execute_result"
    },
    {
     "data": {
      "image/png": "[encoded data removed]",
      "text/plain": [
       "<Figure size 432x288 with 1 Axes>"
      ]
     },
     "metadata": {
      "needs_background": "light"
     },
     "output_type": "display_data"
    }
   ],
   "source": [
    "#Display Month v/s Record Type\n",
    "sns.countplot(birth[\"Month\"], hue=birth[\"Record Type\"])"
   ]
  }
 ],
 "metadata": {
  "kernelspec": {
   "display_name": "Python 3",
   "language": "python",
   "name": "python3"
  },
  "language_info": {
   "codemirror_mode": {
    "name": "ipython",
    "version": 3
   },
   "file_extension": ".py",
   "mimetype": "text/x-python",
   "name": "python",
   "nbconvert_exporter": "python",
   "pygments_lexer": "ipython3",
   "version": "3.8.8"
  }
 },
 "nbformat": 4,
 "nbformat_minor": 5
}
